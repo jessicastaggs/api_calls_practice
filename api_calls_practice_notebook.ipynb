{
 "cells": [
  {
   "cell_type": "code",
   "execution_count": null,
   "id": "fcde5008",
   "metadata": {},
   "outputs": [
    {
     "name": "stdout",
     "output_type": "stream",
     "text": [
      "success!\n",
      "                                                    0\n",
      "0   What was that? I can't hear you over the alban...\n",
      "1        You probably haven't heard of cowbell disco.\n",
      "2     I'm really into new happy soundtrack right now.\n",
      "3   I'm really into escape improvisational polypho...\n",
      "4   You probably haven't heard of slow listening l...\n",
      "5   You probably haven't heard of the cello and ba...\n",
      "6     Have you heard of suomi vietnamese turntablism?\n",
      "7   That was the road trip we listened to way too ...\n",
      "8       Nothing calms me down more than miami tubaia.\n",
      "9                    Have you heard of dubstep indie?\n",
      "10  I'll never forget the time we listened to trum...\n",
      "11            I'm really into thai technoo right now.\n",
      "12       You haven't heard of columbian scene trance?\n",
      "13    Nothing calms me down more than surf eurodance.\n",
      "14      You probably haven't heard of wind jump tone.\n",
      "15  That was the year I first listened to ticocous...\n",
      "16                I'm really into thai kei right now.\n",
      "17  My twenties were all about listening to voidmo...\n",
      "18  I'll never forget the time we listened to show...\n",
      "19  I'll never forget the time we listened to volk...\n",
      "20  Is it really living if you've never seen dixie...\n",
      "21    The glitter bass of standards is where it's at.\n",
      "22           I only listen to german alternativetech.\n",
      "23                    You haven't heard of ragga EBM?\n",
      "24  That was the road trip we listened to way too ...\n"
     ]
    }
   ],
   "source": [
    "#Genrenator - returns array of 25 stories\n",
    "import pandas as pd\n",
    "import requests\n",
    "\n",
    "url = \"https://binaryjazz.us/wp-json/genrenator/v1/story/25/\"\n",
    "response = requests.get(url)\n",
    "\n",
    "if response.status_code == 200:\n",
    "    data = response.json()\n",
    "    print('success!')\n",
    "else:\n",
    "    print(f\"Error: {response.status_code}\")\n",
    "\n",
    "df = pd.DataFrame(data)\n",
    "print(df)\n"
   ]
  },
  {
   "cell_type": "markdown",
   "id": "06dcc3cb",
   "metadata": {},
   "source": []
  }
 ],
 "metadata": {
  "kernelspec": {
   "display_name": "Python 3",
   "language": "python",
   "name": "python3"
  },
  "language_info": {
   "codemirror_mode": {
    "name": "ipython",
    "version": 3
   },
   "file_extension": ".py",
   "mimetype": "text/x-python",
   "name": "python",
   "nbconvert_exporter": "python",
   "pygments_lexer": "ipython3",
   "version": "3.10.11"
  }
 },
 "nbformat": 4,
 "nbformat_minor": 5
}
